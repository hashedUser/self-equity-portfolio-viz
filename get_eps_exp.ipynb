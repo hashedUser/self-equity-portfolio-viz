{
 "cells": [
  {
   "cell_type": "code",
   "execution_count": 21,
   "id": "d200253a",
   "metadata": {},
   "outputs": [],
   "source": [
    "import os\n",
    "import requests\n",
    "import pandas as pd\n",
    "import yfinance as yf\n",
    "from dotenv import load_dotenv\n",
    "\n",
    "# Load API key\n",
    "load_dotenv()\n",
    "FMP_API_KEY = os.getenv(\"FMP_API_KEY\")"
   ]
  },
  {
   "cell_type": "code",
   "execution_count": 22,
   "id": "6e5e4ad7",
   "metadata": {},
   "outputs": [],
   "source": [
    "# fetching forward EPS to df for PE ratio calculation\n",
    "symbol = 'AAPL'\n",
    "eps_url = f\"https://financialmodelingprep.com/api/v3/income-statement/{symbol}?limit=10&apikey=0GA1mPE07wcK9cCJwaasxMftcrv88XvB\"\n",
    "eps_data = requests.get(eps_url).json()"
   ]
  },
  {
   "cell_type": "code",
   "execution_count": 23,
   "id": "bf53b536",
   "metadata": {},
   "outputs": [],
   "source": [
    "eps_df = pd.DataFrame([{\n",
    "    'date': pd.to_datetime(item['date']),\n",
    "    'eps': item['eps']\n",
    "} for item in eps_data])"
   ]
  },
  {
   "cell_type": "code",
   "execution_count": 24,
   "id": "cd6e642b",
   "metadata": {},
   "outputs": [
    {
     "data": {
      "text/html": [
       "<div>\n",
       "<style scoped>\n",
       "    .dataframe tbody tr th:only-of-type {\n",
       "        vertical-align: middle;\n",
       "    }\n",
       "\n",
       "    .dataframe tbody tr th {\n",
       "        vertical-align: top;\n",
       "    }\n",
       "\n",
       "    .dataframe thead th {\n",
       "        text-align: right;\n",
       "    }\n",
       "</style>\n",
       "<table border=\"1\" class=\"dataframe\">\n",
       "  <thead>\n",
       "    <tr style=\"text-align: right;\">\n",
       "      <th></th>\n",
       "      <th>date</th>\n",
       "      <th>eps</th>\n",
       "    </tr>\n",
       "  </thead>\n",
       "  <tbody>\n",
       "    <tr>\n",
       "      <th>0</th>\n",
       "      <td>2024-09-28</td>\n",
       "      <td>6.11</td>\n",
       "    </tr>\n",
       "    <tr>\n",
       "      <th>1</th>\n",
       "      <td>2023-09-30</td>\n",
       "      <td>6.16</td>\n",
       "    </tr>\n",
       "    <tr>\n",
       "      <th>2</th>\n",
       "      <td>2022-09-24</td>\n",
       "      <td>6.15</td>\n",
       "    </tr>\n",
       "    <tr>\n",
       "      <th>3</th>\n",
       "      <td>2021-09-25</td>\n",
       "      <td>5.67</td>\n",
       "    </tr>\n",
       "    <tr>\n",
       "      <th>4</th>\n",
       "      <td>2020-09-26</td>\n",
       "      <td>3.31</td>\n",
       "    </tr>\n",
       "  </tbody>\n",
       "</table>\n",
       "</div>"
      ],
      "text/plain": [
       "        date   eps\n",
       "0 2024-09-28  6.11\n",
       "1 2023-09-30  6.16\n",
       "2 2022-09-24  6.15\n",
       "3 2021-09-25  5.67\n",
       "4 2020-09-26  3.31"
      ]
     },
     "execution_count": 24,
     "metadata": {},
     "output_type": "execute_result"
    }
   ],
   "source": [
    "eps_df"
   ]
  },
  {
   "cell_type": "code",
   "execution_count": 15,
   "id": "30946a8c",
   "metadata": {},
   "outputs": [
    {
     "name": "stderr",
     "output_type": "stream",
     "text": [
      "[*********************100%***********************]  1 of 1 completed\n"
     ]
    }
   ],
   "source": [
    "stock = yf.download('AAPL', start='2024-01-01', end='2024-12-31')\n",
    "stock.reset_index(inplace=True)"
   ]
  },
  {
   "cell_type": "code",
   "execution_count": 16,
   "id": "842c2dde",
   "metadata": {},
   "outputs": [],
   "source": [
    "stock['Date'] = pd.to_datetime(stock['Date'])\n",
    "eps_df = eps_df.sort_values('date')\n",
    "stock = stock.sort_values('Date')"
   ]
  },
  {
   "cell_type": "code",
   "execution_count": 17,
   "id": "6dcec189",
   "metadata": {},
   "outputs": [],
   "source": [
    "stock.columns = [col[0] if col[0] != \"Price\" else \"Date\" for col in stock.columns]\n",
    "stock = stock.drop(index=[0, 1]).reset_index(drop=True)"
   ]
  },
  {
   "cell_type": "code",
   "execution_count": 19,
   "id": "2522ddb3",
   "metadata": {},
   "outputs": [],
   "source": [
    "merged = pd.merge_asof(stock, eps_df, left_on='Date', right_on='date', direction='backward')\n",
    "\n",
    "# Step 4: Save to CSV for Tableau\n",
    "merged[['Date', 'Open', 'High', 'Low', 'Close', 'eps']].to_csv('aapl_pe_ratio.csv', index=False)"
   ]
  },
  {
   "cell_type": "code",
   "execution_count": 20,
   "id": "fed9bf1c",
   "metadata": {},
   "outputs": [
    {
     "data": {
      "text/html": [
       "<div>\n",
       "<style scoped>\n",
       "    .dataframe tbody tr th:only-of-type {\n",
       "        vertical-align: middle;\n",
       "    }\n",
       "\n",
       "    .dataframe tbody tr th {\n",
       "        vertical-align: top;\n",
       "    }\n",
       "\n",
       "    .dataframe thead th {\n",
       "        text-align: right;\n",
       "    }\n",
       "</style>\n",
       "<table border=\"1\" class=\"dataframe\">\n",
       "  <thead>\n",
       "    <tr style=\"text-align: right;\">\n",
       "      <th></th>\n",
       "      <th>Date</th>\n",
       "      <th>Close</th>\n",
       "      <th>High</th>\n",
       "      <th>Low</th>\n",
       "      <th>Open</th>\n",
       "      <th>Volume</th>\n",
       "      <th>date</th>\n",
       "      <th>eps</th>\n",
       "    </tr>\n",
       "  </thead>\n",
       "  <tbody>\n",
       "    <tr>\n",
       "      <th>0</th>\n",
       "      <td>2024-01-04</td>\n",
       "      <td>180.587524</td>\n",
       "      <td>181.758939</td>\n",
       "      <td>179.565014</td>\n",
       "      <td>180.825770</td>\n",
       "      <td>71983600</td>\n",
       "      <td>2023-09-30</td>\n",
       "      <td>6.16</td>\n",
       "    </tr>\n",
       "    <tr>\n",
       "      <th>1</th>\n",
       "      <td>2024-01-05</td>\n",
       "      <td>179.862839</td>\n",
       "      <td>181.431354</td>\n",
       "      <td>178.860187</td>\n",
       "      <td>180.666963</td>\n",
       "      <td>62303300</td>\n",
       "      <td>2023-09-30</td>\n",
       "      <td>6.16</td>\n",
       "    </tr>\n",
       "    <tr>\n",
       "      <th>2</th>\n",
       "      <td>2024-01-08</td>\n",
       "      <td>184.210999</td>\n",
       "      <td>184.250716</td>\n",
       "      <td>180.180517</td>\n",
       "      <td>180.766224</td>\n",
       "      <td>59144500</td>\n",
       "      <td>2023-09-30</td>\n",
       "      <td>6.16</td>\n",
       "    </tr>\n",
       "    <tr>\n",
       "      <th>3</th>\n",
       "      <td>2024-01-09</td>\n",
       "      <td>183.794052</td>\n",
       "      <td>183.803974</td>\n",
       "      <td>181.401569</td>\n",
       "      <td>182.582920</td>\n",
       "      <td>42841800</td>\n",
       "      <td>2023-09-30</td>\n",
       "      <td>6.16</td>\n",
       "    </tr>\n",
       "    <tr>\n",
       "      <th>4</th>\n",
       "      <td>2024-01-10</td>\n",
       "      <td>184.836411</td>\n",
       "      <td>185.044875</td>\n",
       "      <td>182.582909</td>\n",
       "      <td>183.009791</td>\n",
       "      <td>46792900</td>\n",
       "      <td>2023-09-30</td>\n",
       "      <td>6.16</td>\n",
       "    </tr>\n",
       "  </tbody>\n",
       "</table>\n",
       "</div>"
      ],
      "text/plain": [
       "        Date       Close        High         Low        Open    Volume  \\\n",
       "0 2024-01-04  180.587524  181.758939  179.565014  180.825770  71983600   \n",
       "1 2024-01-05  179.862839  181.431354  178.860187  180.666963  62303300   \n",
       "2 2024-01-08  184.210999  184.250716  180.180517  180.766224  59144500   \n",
       "3 2024-01-09  183.794052  183.803974  181.401569  182.582920  42841800   \n",
       "4 2024-01-10  184.836411  185.044875  182.582909  183.009791  46792900   \n",
       "\n",
       "        date   eps  \n",
       "0 2023-09-30  6.16  \n",
       "1 2023-09-30  6.16  \n",
       "2 2023-09-30  6.16  \n",
       "3 2023-09-30  6.16  \n",
       "4 2023-09-30  6.16  "
      ]
     },
     "execution_count": 20,
     "metadata": {},
     "output_type": "execute_result"
    }
   ],
   "source": [
    "merged.head()"
   ]
  },
  {
   "cell_type": "code",
   "execution_count": null,
   "id": "9b5a97a9",
   "metadata": {},
   "outputs": [
    {
     "name": "stdout",
     "output_type": "stream",
     "text": [
      "[{'symbol': 'ACC.NS', 'name': 'ACC Limited', 'currency': 'INR', 'exchangeFullName': 'National Stock Exchange of India', 'exchange': 'NSE'}, {'symbol': 'CREDITACC.NS', 'name': 'CreditAccess Grameen Limited', 'currency': 'INR', 'exchangeFullName': 'National Stock Exchange of India', 'exchange': 'NSE'}]\n",
      "\n",
      "[{'symbol': 'BANKBARODA.NS', 'name': 'Bank of Baroda Limited', 'currency': 'INR', 'exchangeFullName': 'National Stock Exchange of India', 'exchange': 'NSE'}]\n",
      "\n",
      "[{'symbol': 'FEDERALBNK.NS', 'name': 'The Federal Bank Limited', 'currency': 'INR', 'exchangeFullName': 'National Stock Exchange of India', 'exchange': 'NSE'}]\n",
      "\n",
      "[{'symbol': 'IRFC.NS', 'name': 'Indian Railway Finance Corporation Limited', 'currency': 'INR', 'exchangeFullName': 'National Stock Exchange of India', 'exchange': 'NSE'}]\n",
      "\n",
      "[{'symbol': 'LTTS.NS', 'name': 'L&T Technology Services Limited', 'currency': 'INR', 'exchangeFullName': 'National Stock Exchange of India', 'exchange': 'NSE'}]\n",
      "\n",
      "[{'symbol': 'LT.NS', 'name': 'Larsen & Toubro Limited', 'currency': 'INR', 'exchangeFullName': 'National Stock Exchange of India', 'exchange': 'NSE'}, {'symbol': 'SMLT.NS', 'name': 'Sarthak Metals Limited', 'currency': 'INR', 'exchangeFullName': 'National Stock Exchange of India', 'exchange': 'NSE'}, {'symbol': 'ROLLT.NS', 'name': 'Rollatainers Limited', 'currency': 'INR', 'exchangeFullName': 'National Stock Exchange of India', 'exchange': 'NSE'}, {'symbol': 'SETF10GILT.NS', 'name': 'SBI Nifty 10 yr Benchmark G-Sec ETF', 'currency': 'INR', 'exchangeFullName': 'National Stock Exchange of India', 'exchange': 'NSE'}]\n",
      "\n",
      "[]\n",
      "\n",
      "[{'symbol': 'NTPC.NS', 'name': 'NTPC Limited', 'currency': 'INR', 'exchangeFullName': 'National Stock Exchange of India', 'exchange': 'NSE'}]\n",
      "\n",
      "[{'symbol': 'RCF.NS', 'name': 'Rashtriya Chemicals and Fertilizers Limited', 'currency': 'INR', 'exchangeFullName': 'National Stock Exchange of India', 'exchange': 'NSE'}]\n",
      "\n",
      "[{'symbol': 'RELIANCE.NS', 'name': 'Reliance Industries Limited', 'currency': 'INR', 'exchangeFullName': 'National Stock Exchange of India', 'exchange': 'NSE'}]\n",
      "\n",
      "[{'symbol': 'STARCEMENT.NS', 'name': 'Star Cement Limited', 'currency': 'INR', 'exchangeFullName': 'National Stock Exchange of India', 'exchange': 'NSE'}]\n",
      "\n",
      "[{'symbol': 'TATAPOWER.NS', 'name': 'The Tata Power Company Limited', 'currency': 'INR', 'exchangeFullName': 'National Stock Exchange of India', 'exchange': 'NSE'}]\n",
      "\n"
     ]
    }
   ],
   "source": [
    "symbols = ['ACC.NS', 'BANKBARODA.NS', 'FEDERALBNK.NS', 'IRFC.NS',\n",
    "    'LTTS.NS', 'LT.NS', 'NTPC.NS',\n",
    "    'RCF.NS', 'RELIANCE.NS', 'STARCEMENT.NS', 'TATAPOWER.NS'\n",
    "]\n",
    "\n",
    "for symbol in symbols:\n",
    "    print(requests.get(f'https://financialmodelingprep.com/stable/search-symbol?query={symbol}&apikey=0GA1mPE07wcK9cCJwaasxMftcrv88XvB').json(),end='\\n\\n')"
   ]
  },
  {
   "cell_type": "code",
   "execution_count": null,
   "id": "d84c241f",
   "metadata": {},
   "outputs": [],
   "source": []
  }
 ],
 "metadata": {
  "kernelspec": {
   "display_name": "pyfin",
   "language": "python",
   "name": "python3"
  },
  "language_info": {
   "codemirror_mode": {
    "name": "ipython",
    "version": 3
   },
   "file_extension": ".py",
   "mimetype": "text/x-python",
   "name": "python",
   "nbconvert_exporter": "python",
   "pygments_lexer": "ipython3",
   "version": "3.9.21"
  }
 },
 "nbformat": 4,
 "nbformat_minor": 5
}
