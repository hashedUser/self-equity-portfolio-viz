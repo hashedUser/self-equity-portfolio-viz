{
 "cells": [
  {
   "cell_type": "code",
   "execution_count": 1,
   "id": "bba1af96",
   "metadata": {},
   "outputs": [],
   "source": [
    "import pandas as pd\n",
    "path = 'C:/Users/admin/OneDrive/Documents/Python_for_DS/practise/data/yfin_hist_data'"
   ]
  },
  {
   "cell_type": "code",
   "execution_count": 2,
   "id": "24b1d827",
   "metadata": {},
   "outputs": [],
   "source": [
    "data = pd.read_csv(path + '/tata_power.csv')"
   ]
  },
  {
   "cell_type": "code",
   "execution_count": 3,
   "id": "c1d6dd71",
   "metadata": {},
   "outputs": [
    {
     "data": {
      "text/html": [
       "<div>\n",
       "<style scoped>\n",
       "    .dataframe tbody tr th:only-of-type {\n",
       "        vertical-align: middle;\n",
       "    }\n",
       "\n",
       "    .dataframe tbody tr th {\n",
       "        vertical-align: top;\n",
       "    }\n",
       "\n",
       "    .dataframe thead th {\n",
       "        text-align: right;\n",
       "    }\n",
       "</style>\n",
       "<table border=\"1\" class=\"dataframe\">\n",
       "  <thead>\n",
       "    <tr style=\"text-align: right;\">\n",
       "      <th></th>\n",
       "      <th>Price</th>\n",
       "      <th>Adj Close</th>\n",
       "      <th>Close</th>\n",
       "      <th>High</th>\n",
       "      <th>Low</th>\n",
       "      <th>Open</th>\n",
       "      <th>Volume</th>\n",
       "    </tr>\n",
       "  </thead>\n",
       "  <tbody>\n",
       "    <tr>\n",
       "      <th>0</th>\n",
       "      <td>Ticker</td>\n",
       "      <td>TATAPOWER.NS</td>\n",
       "      <td>TATAPOWER.NS</td>\n",
       "      <td>TATAPOWER.NS</td>\n",
       "      <td>TATAPOWER.NS</td>\n",
       "      <td>TATAPOWER.NS</td>\n",
       "      <td>TATAPOWER.NS</td>\n",
       "    </tr>\n",
       "    <tr>\n",
       "      <th>1</th>\n",
       "      <td>Date</td>\n",
       "      <td>NaN</td>\n",
       "      <td>NaN</td>\n",
       "      <td>NaN</td>\n",
       "      <td>NaN</td>\n",
       "      <td>NaN</td>\n",
       "      <td>NaN</td>\n",
       "    </tr>\n",
       "    <tr>\n",
       "      <th>2</th>\n",
       "      <td>2024-04-22</td>\n",
       "      <td>425.9772033691406</td>\n",
       "      <td>427.95001220703125</td>\n",
       "      <td>435.0</td>\n",
       "      <td>426.75</td>\n",
       "      <td>434.0</td>\n",
       "      <td>12126655</td>\n",
       "    </tr>\n",
       "    <tr>\n",
       "      <th>3</th>\n",
       "      <td>2024-04-23</td>\n",
       "      <td>427.66937255859375</td>\n",
       "      <td>429.6499938964844</td>\n",
       "      <td>432.3999938964844</td>\n",
       "      <td>427.6499938964844</td>\n",
       "      <td>430.04998779296875</td>\n",
       "      <td>9349694</td>\n",
       "    </tr>\n",
       "    <tr>\n",
       "      <th>4</th>\n",
       "      <td>2024-04-24</td>\n",
       "      <td>426.3255615234375</td>\n",
       "      <td>428.29998779296875</td>\n",
       "      <td>432.45001220703125</td>\n",
       "      <td>427.0</td>\n",
       "      <td>430.04998779296875</td>\n",
       "      <td>6456018</td>\n",
       "    </tr>\n",
       "  </tbody>\n",
       "</table>\n",
       "</div>"
      ],
      "text/plain": [
       "        Price           Adj Close               Close                High  \\\n",
       "0      Ticker        TATAPOWER.NS        TATAPOWER.NS        TATAPOWER.NS   \n",
       "1        Date                 NaN                 NaN                 NaN   \n",
       "2  2024-04-22   425.9772033691406  427.95001220703125               435.0   \n",
       "3  2024-04-23  427.66937255859375   429.6499938964844   432.3999938964844   \n",
       "4  2024-04-24   426.3255615234375  428.29998779296875  432.45001220703125   \n",
       "\n",
       "                 Low                Open        Volume  \n",
       "0       TATAPOWER.NS        TATAPOWER.NS  TATAPOWER.NS  \n",
       "1                NaN                 NaN           NaN  \n",
       "2             426.75               434.0      12126655  \n",
       "3  427.6499938964844  430.04998779296875       9349694  \n",
       "4              427.0  430.04998779296875       6456018  "
      ]
     },
     "execution_count": 3,
     "metadata": {},
     "output_type": "execute_result"
    }
   ],
   "source": [
    "data.head()"
   ]
  },
  {
   "cell_type": "code",
   "execution_count": 4,
   "id": "ea3d5c7d",
   "metadata": {},
   "outputs": [],
   "source": [
    "data['Ticker'] = 'TATAPOWER'\n",
    "data = data.drop([0,1])\n",
    "data.rename(columns={'Price':'Date'}, inplace=True)"
   ]
  },
  {
   "cell_type": "code",
   "execution_count": 5,
   "id": "c03f1ef9",
   "metadata": {},
   "outputs": [
    {
     "name": "stdout",
     "output_type": "stream",
     "text": [
      "<class 'pandas.core.frame.DataFrame'>\n",
      "RangeIndex: 246 entries, 2 to 247\n",
      "Data columns (total 8 columns):\n",
      " #   Column     Non-Null Count  Dtype \n",
      "---  ------     --------------  ----- \n",
      " 0   Date       246 non-null    object\n",
      " 1   Adj Close  246 non-null    object\n",
      " 2   Close      246 non-null    object\n",
      " 3   High       246 non-null    object\n",
      " 4   Low        246 non-null    object\n",
      " 5   Open       246 non-null    object\n",
      " 6   Volume     246 non-null    object\n",
      " 7   Ticker     246 non-null    object\n",
      "dtypes: object(8)\n",
      "memory usage: 15.5+ KB\n"
     ]
    }
   ],
   "source": [
    "data.info()"
   ]
  },
  {
   "cell_type": "code",
   "execution_count": 6,
   "id": "2b0950ba",
   "metadata": {},
   "outputs": [
    {
     "data": {
      "text/plain": [
       "Date         0\n",
       "Adj Close    0\n",
       "Close        0\n",
       "High         0\n",
       "Low          0\n",
       "Open         0\n",
       "Volume       0\n",
       "Ticker       0\n",
       "dtype: int64"
      ]
     },
     "execution_count": 6,
     "metadata": {},
     "output_type": "execute_result"
    }
   ],
   "source": [
    "data.isnull().sum()"
   ]
  },
  {
   "cell_type": "code",
   "execution_count": 7,
   "id": "8a2ba34d",
   "metadata": {},
   "outputs": [],
   "source": [
    "data['Adj Close'] = data['Adj Close'].astype(float)\n",
    "data['Close'] = data['Close'].astype(float)\n",
    "data['High'] = data['High'].astype(float)\n",
    "data['Low'] = data['Low'].astype(float)\n",
    "data['Open'] = data['Open'].astype(float)\n",
    "data['Volume'] = data['Volume'].astype(int)"
   ]
  },
  {
   "cell_type": "code",
   "execution_count": null,
   "id": "fb2d8764",
   "metadata": {},
   "outputs": [
    {
     "name": "stdout",
     "output_type": "stream",
     "text": [
      "<class 'pandas.core.frame.DataFrame'>\n",
      "RangeIndex: 246 entries, 2 to 247\n",
      "Data columns (total 8 columns):\n",
      " #   Column     Non-Null Count  Dtype  \n",
      "---  ------     --------------  -----  \n",
      " 0   Date       246 non-null    object \n",
      " 1   Adj Close  246 non-null    float64\n",
      " 2   Close      246 non-null    float64\n",
      " 3   High       246 non-null    float64\n",
      " 4   Low        246 non-null    float64\n",
      " 5   Open       246 non-null    float64\n",
      " 6   Volume     246 non-null    int64  \n",
      " 7   Ticker     246 non-null    object \n",
      "dtypes: float64(5), int64(1), object(2)\n",
      "memory usage: 15.5+ KB\n"
     ]
    }
   ],
   "source": [
    "data.info()"
   ]
  },
  {
   "cell_type": "code",
   "execution_count": null,
   "id": "8d5a35f4",
   "metadata": {},
   "outputs": [],
   "source": []
  }
 ],
 "metadata": {
  "kernelspec": {
   "display_name": "pyfin",
   "language": "python",
   "name": "python3"
  },
  "language_info": {
   "codemirror_mode": {
    "name": "ipython",
    "version": 3
   },
   "file_extension": ".py",
   "mimetype": "text/x-python",
   "name": "python",
   "nbconvert_exporter": "python",
   "pygments_lexer": "ipython3",
   "version": "3.9.21"
  }
 },
 "nbformat": 4,
 "nbformat_minor": 5
}
